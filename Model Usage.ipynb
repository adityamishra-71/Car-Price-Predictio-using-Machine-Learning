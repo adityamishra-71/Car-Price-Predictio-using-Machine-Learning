{
 "cells": [
  {
   "cell_type": "code",
   "execution_count": 1,
   "id": "37fee4a5",
   "metadata": {},
   "outputs": [],
   "source": [
    "from joblib import dump, load\n",
    "import numpy as np\n",
    "model = load('Fly car 69.joblib')"
   ]
  },
  {
   "cell_type": "code",
   "execution_count": 1,
   "id": "32f2a6f8",
   "metadata": {},
   "outputs": [
    {
     "ename": "NameError",
     "evalue": "name 'np' is not defined",
     "output_type": "error",
     "traceback": [
      "\u001b[1;31m---------------------------------------------------------------------------\u001b[0m",
      "\u001b[1;31mNameError\u001b[0m                                 Traceback (most recent call last)",
      "Cell \u001b[1;32mIn[1], line 1\u001b[0m\n\u001b[1;32m----> 1\u001b[0m features \u001b[39m=\u001b[39m np\u001b[39m.\u001b[39marray([[\u001b[39m-\u001b[39m\u001b[39m0.10962923\u001b[39m,  \u001b[39m0.58213453\u001b[39m, \u001b[39m-\u001b[39m\u001b[39m0.43997645\u001b[39m, \u001b[39m-\u001b[39m\u001b[39m1.17023886\u001b[39m,  \u001b[39m0.59160422\u001b[39m,\n\u001b[0;32m      2\u001b[0m        \u001b[39m-\u001b[39m\u001b[39m0.34850864\u001b[39m]])\n\u001b[0;32m      3\u001b[0m model\u001b[39m.\u001b[39mpredict(features)\n",
      "\u001b[1;31mNameError\u001b[0m: name 'np' is not defined"
     ]
    }
   ],
   "source": [
    "features = np.array([[-0.10962923,  0.58213453, -0.43997645, -1.17023886,  0.59160422,\n",
    "       -0.34850864]])\n",
    "model.predict(features)"
   ]
  },
  {
   "cell_type": "code",
   "execution_count": null,
   "id": "5dea3b10",
   "metadata": {},
   "outputs": [],
   "source": []
  }
 ],
 "metadata": {
  "kernelspec": {
   "display_name": "Python 3",
   "language": "python",
   "name": "python3"
  },
  "language_info": {
   "codemirror_mode": {
    "name": "ipython",
    "version": 3
   },
   "file_extension": ".py",
   "mimetype": "text/x-python",
   "name": "python",
   "nbconvert_exporter": "python",
   "pygments_lexer": "ipython3",
   "version": "3.11.0 (main, Oct 24 2022, 18:26:48) [MSC v.1933 64 bit (AMD64)]"
  },
  "vscode": {
   "interpreter": {
    "hash": "3d86237bf704886635957959de6b734fe4177548ca2ca78202994b318aa4b602"
   }
  }
 },
 "nbformat": 4,
 "nbformat_minor": 5
}
